{
  "nbformat": 4,
  "nbformat_minor": 0,
  "metadata": {
    "colab": {
      "name": "m2m3.ipynb",
      "version": "0.3.2",
      "provenance": [],
      "collapsed_sections": [],
      "include_colab_link": true
    },
    "kernelspec": {
      "name": "python3",
      "display_name": "Python 3"
    }
  },
  "cells": [
    {
      "cell_type": "markdown",
      "metadata": {
        "id": "view-in-github",
        "colab_type": "text"
      },
      "source": [
        "<a href=\"https://colab.research.google.com/github/12sandeep1994/SoftwareMeasurementProject/blob/master/DataAnalysisNotebook/m2m3.ipynb\" target=\"_parent\"><img src=\"https://colab.research.google.com/assets/colab-badge.svg\" alt=\"Open In Colab\"/></a>"
      ]
    },
    {
      "metadata": {
        "id": "JmcCUdt32bK0",
        "colab_type": "text"
      },
      "cell_type": "markdown",
      "source": [
        "###Some dependencies to inherit for running the tests."
      ]
    },
    {
      "metadata": {
        "id": "vbLjgrV2ysAB",
        "colab_type": "code",
        "colab": {}
      },
      "cell_type": "code",
      "source": [
        "from scipy.stats import spearmanr\n",
        "import matplotlib.pyplot as plt"
      ],
      "execution_count": 0,
      "outputs": []
    },
    {
      "metadata": {
        "id": "SUGZXiSX2kjk",
        "colab_type": "text"
      },
      "cell_type": "markdown",
      "source": [
        "###We directly define the values which we got from the reports of the analysis."
      ]
    },
    {
      "metadata": {
        "id": "p8REUpHvywbT",
        "colab_type": "code",
        "colab": {}
      },
      "cell_type": "code",
      "source": [
        "#Branch coverage test result\n",
        "branch_coverage_results = [ 39, 84, 78, 84, 46]\n",
        "#Mutation test results\n",
        "mutation_test_results = [ 26, 87, 42, 79, 33] \n"
      ],
      "execution_count": 0,
      "outputs": []
    },
    {
      "metadata": {
        "id": "fubT078VzkxW",
        "colab_type": "code",
        "outputId": "70ef6b21-2910-4670-e453-7597db1d8a28",
        "colab": {
          "base_uri": "https://localhost:8080/",
          "height": 35
        }
      },
      "cell_type": "code",
      "source": [
        "print(spearmanr(branch_coverage_results, mutation_test_results))"
      ],
      "execution_count": 0,
      "outputs": [
        {
          "output_type": "stream",
          "text": [
            "SpearmanrResult(correlation=0.9746794344808963, pvalue=0.004818230468198566)\n"
          ],
          "name": "stdout"
        }
      ]
    },
    {
      "metadata": {
        "id": "0tYUgEBl2GW4",
        "colab_type": "text"
      },
      "cell_type": "markdown",
      "source": [
        "###We find that branch coverage and mutation test results are strongly positively correlated with each other."
      ]
    },
    {
      "metadata": {
        "id": "SShKJNkrzqGM",
        "colab_type": "code",
        "outputId": "7949aec8-f97d-4eb3-c0a1-ea5509d7aca2",
        "colab": {
          "base_uri": "https://localhost:8080/",
          "height": 361
        }
      },
      "cell_type": "code",
      "source": [
        "mutation_test_results,branch_coverage_results = zip(*sorted(zip(mutation_test_results,branch_coverage_results)))\n",
        "plt.plot(mutation_test_results, branch_coverage_results)\n",
        "plt.ylabel(\"Branch coverage results\")\n",
        "plt.xlabel(\"Mutation test results\")\n",
        "plt.show()"
      ],
      "execution_count": 0,
      "outputs": [
        {
          "output_type": "display_data",
          "data": {
            "image/png": "[encoded data removed]",
            "text/plain": [
              "<Figure size 576x396 with 1 Axes>"
            ]
          },
          "metadata": {
            "tags": []
          }
        }
      ]
    },
    {
      "metadata": {
        "id": "TuTCkeJQ2VQ_",
        "colab_type": "text"
      },
      "cell_type": "markdown",
      "source": [
        "###The graph also depicts the same."
      ]
    }
  ]
}