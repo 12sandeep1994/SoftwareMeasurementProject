{
  "nbformat": 4,
  "nbformat_minor": 0,
  "metadata": {
    "colab": {
      "name": "m1m3.ipynb",
      "version": "0.3.2",
      "provenance": [],
      "collapsed_sections": [],
      "include_colab_link": true
    },
    "kernelspec": {
      "name": "python3",
      "display_name": "Python 3"
    }
  },
  "cells": [
    {
      "cell_type": "markdown",
      "metadata": {
        "id": "view-in-github",
        "colab_type": "text"
      },
      "source": [
        "<a href=\"https://colab.research.google.com/github/12sandeep1994/SoftwareMeasurementProject/blob/master/DataAnalysisNotebook/m1m3.ipynb\" target=\"_parent\"><img src=\"https://colab.research.google.com/assets/colab-badge.svg\" alt=\"Open In Colab\"/></a>"
      ]
    },
    {
      "metadata": {
        "id": "bYvSYa9x2xoa",
        "colab_type": "text"
      },
      "cell_type": "markdown",
      "source": [
        "###Some dependencies to inherit for running the tests."
      ]
    },
    {
      "metadata": {
        "id": "dyGP7JDz4q5S",
        "colab_type": "code",
        "colab": {}
      },
      "cell_type": "code",
      "source": [
        "from scipy.stats import spearmanr\n",
        "import matplotlib.pyplot as plt"
      ],
      "execution_count": 0,
      "outputs": []
    },
    {
      "metadata": {
        "id": "KpwRNo1a4MDx",
        "colab_type": "code",
        "colab": {}
      },
      "cell_type": "code",
      "source": [
        "#Statement coverage test result\n",
        "statement_coverage_results = [50, 94 ,89,94,72]\n",
        "#Mutation test results\n",
        "mutation_test_results = [ 26, 87, 42, 79, 33] \n"
      ],
      "execution_count": 0,
      "outputs": []
    },
    {
      "metadata": {
        "id": "WEmuoaeT44bL",
        "colab_type": "code",
        "outputId": "d8f92e96-7305-43e2-c6f5-f8d2408d56ba",
        "colab": {
          "base_uri": "https://localhost:8080/",
          "height": 35
        }
      },
      "cell_type": "code",
      "source": [
        "print(spearmanr(statement_coverage_results, mutation_test_results))"
      ],
      "execution_count": 0,
      "outputs": [
        {
          "output_type": "stream",
          "text": [
            "SpearmanrResult(correlation=0.9746794344808963, pvalue=0.004818230468198566)\n"
          ],
          "name": "stdout"
        }
      ]
    },
    {
      "metadata": {
        "id": "7V3kyTZk3SEz",
        "colab_type": "text"
      },
      "cell_type": "markdown",
      "source": [
        "###Here, the correlation coefficient is 97% with a significance level of 0.004 "
      ]
    },
    {
      "metadata": {
        "id": "Nj8fz3uL7shn",
        "colab_type": "code",
        "outputId": "c35c4dd6-d543-47d2-fe03-72c8e3000f11",
        "colab": {
          "base_uri": "https://localhost:8080/",
          "height": 361
        }
      },
      "cell_type": "code",
      "source": [
        "mutation_test_results,statement_coverage_results = zip(*sorted(zip(mutation_test_results,statement_coverage_results)))\n",
        "plt.plot(mutation_test_results, statement_coverage_results)\n",
        "plt.ylabel(\"Statement coverage results\")\n",
        "plt.xlabel(\"Mutation test results\")\n",
        "plt.show()"
      ],
      "execution_count": 0,
      "outputs": [
        {
          "output_type": "display_data",
          "data": {
            "image/png": "[encoded data removed]",
            "text/plain": [
              "<Figure size 576x396 with 1 Axes>"
            ]
          },
          "metadata": {
            "tags": []
          }
        }
      ]
    },
    {
      "metadata": {
        "id": "vcOy6yT29bDO",
        "colab_type": "code",
        "colab": {}
      },
      "cell_type": "code",
      "source": [
        "#Mutation test results\n",
        "mutation_test_results = [26,87,33,42,79]; \n",
        "#branch coverage results\n",
        "branch_coverage_results = [39, 84, 78, 84, 46]"
      ],
      "execution_count": 0,
      "outputs": []
    },
    {
      "metadata": {
        "id": "rYXz8WHo9kiP",
        "colab_type": "code",
        "outputId": "55f6a024-e4c8-4c6a-de5f-bdd51f925d7d",
        "colab": {
          "base_uri": "https://localhost:8080/",
          "height": 35
        }
      },
      "cell_type": "code",
      "source": [
        "print(spearmanr(branch_coverage_results, mutation_test_results))"
      ],
      "execution_count": 0,
      "outputs": [
        {
          "output_type": "stream",
          "text": [
            "SpearmanrResult(correlation=0.6155870112510925, pvalue=0.2689977701158222)\n"
          ],
          "name": "stdout"
        }
      ]
    },
    {
      "metadata": {
        "id": "B4UgOfPc-lgW",
        "colab_type": "code",
        "colab": {}
      },
      "cell_type": "code",
      "source": [
        "#Statement coverage test result\n",
        "scr = [50,94,72,89,94]\n",
        "\n",
        "#CC test results\n",
        "#ccr = [12, 22, 14, 15, 24.5]\n",
        "ccr = [1,2,3,4,5] "
      ],
      "execution_count": 0,
      "outputs": []
    },
    {
      "metadata": {
        "id": "cDxOsR23-6D3",
        "colab_type": "code",
        "outputId": "21fc3c14-864d-4ae0-cddf-291323d48e52",
        "colab": {
          "base_uri": "https://localhost:8080/",
          "height": 35
        }
      },
      "cell_type": "code",
      "source": [
        "print(spearmanr(scr, ccr))"
      ],
      "execution_count": 0,
      "outputs": [
        {
          "output_type": "stream",
          "text": [
            "SpearmanrResult(correlation=0.5642880936468347, pvalue=0.32172333582430024)\n"
          ],
          "name": "stdout"
        }
      ]
    },
    {
      "metadata": {
        "id": "3QPoPLMqKPsM",
        "colab_type": "code",
        "outputId": "25c516f6-e149-43d3-f422-49c75fe9f55d",
        "colab": {
          "base_uri": "https://localhost:8080/",
          "height": 53
        }
      },
      "cell_type": "code",
      "source": [
        "x = [1,2,3,4,5] \n",
        "y = [5,4,3,2,1]\n",
        "z = [1,2,3,4,5] \n",
        "print(spearmanr(x,y))\n",
        "print(spearmanr(x,z))"
      ],
      "execution_count": 0,
      "outputs": [
        {
          "output_type": "stream",
          "text": [
            "SpearmanrResult(correlation=-0.9999999999999999, pvalue=1.4042654220543672e-24)\n",
            "SpearmanrResult(correlation=0.9999999999999999, pvalue=1.4042654220543672e-24)\n"
          ],
          "name": "stdout"
        }
      ]
    },
    {
      "metadata": {
        "id": "zenjlNyZgUcL",
        "colab_type": "code",
        "colab": {}
      },
      "cell_type": "code",
      "source": [
        "#Effort required\n",
        "er = [  78.05,\n",
        "79.08,\n",
        "141.76,\n",
        "84.42,\n",
        "102.85,\n",
        "79.98,\n",
        "      69.41,\n",
        "      80.12,\n",
        "      85.23,\n",
        "      80.12,\n",
        "      85.23\n",
        " ]\n",
        "#Software defect density\n",
        "sdd = [    0.5106,\n",
        "0.1006,\n",
        "0.1272,\n",
        "0.2005,\n",
        "0.0449,\n",
        "0.05966,\n",
        "       0.64,\n",
        "       0.208,\n",
        "       0.025,\n",
        "       0.208,\n",
        "       0.025\n",
        "      ]"
      ],
      "execution_count": 0,
      "outputs": []
    },
    {
      "metadata": {
        "id": "FUZnEZwNkpoC",
        "colab_type": "code",
        "colab": {}
      },
      "cell_type": "code",
      "source": [
        "#Effort required\n",
        "er = [  78.05,\n",
        "79.08,\n",
        "141.76,\n",
        "84.42,\n",
        "102.85,\n",
        "79.98,\n",
        "      78.05,\n",
        "79.08,\n",
        "141.76,\n",
        "84.42,\n",
        "102.85,\n",
        "79.98,\n",
        "     \n",
        " ]\n",
        "#Software defect density\n",
        "sdd = [    0.5106,\n",
        "0.1006,\n",
        "0.1272,\n",
        "0.2005,\n",
        "0.0449,\n",
        "0.05966,\n",
        "       0.5106,\n",
        "0.1006,\n",
        "0.1272,\n",
        "0.2005,\n",
        "0.0449,\n",
        "0.05966,\n",
        "      \n",
        "      ]"
      ],
      "execution_count": 0,
      "outputs": []
    },
    {
      "metadata": {
        "id": "QEj5TTkJg-kF",
        "colab_type": "code",
        "outputId": "9bc00b22-61e1-4b03-f64e-3af9d54b9c3a",
        "colab": {
          "base_uri": "https://localhost:8080/",
          "height": 34
        }
      },
      "cell_type": "code",
      "source": [
        "print(spearmanr(er,sdd))"
      ],
      "execution_count": 0,
      "outputs": [
        {
          "output_type": "stream",
          "text": [
            "SpearmanrResult(correlation=-0.37142857142857144, pvalue=0.23453341256481172)\n"
          ],
          "name": "stdout"
        }
      ]
    }
  ]
}