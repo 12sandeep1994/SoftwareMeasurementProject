{
  "nbformat": 4,
  "nbformat_minor": 0,
  "metadata": {
    "colab": {
      "name": "m1m3m6.ipynb",
      "version": "0.3.2",
      "provenance": [],
      "collapsed_sections": [],
      "include_colab_link": true
    },
    "kernelspec": {
      "name": "python3",
      "display_name": "Python 3"
    }
  },
  "cells": [
    {
      "cell_type": "markdown",
      "metadata": {
        "id": "view-in-github",
        "colab_type": "text"
      },
      "source": [
        "<a href=\"https://colab.research.google.com/github/12sandeep1994/SoftwareMeasurementProject/blob/master/DataAnalysisNotebook/m1m3m6.ipynb\" target=\"_parent\"><img src=\"https://colab.research.google.com/assets/colab-badge.svg\" alt=\"Open In Colab\"/></a>"
      ]
    },
    {
      "metadata": {
        "id": "IySXgYIT0R0M",
        "colab_type": "code",
        "colab": {}
      },
      "cell_type": "code",
      "source": [
        "from scipy.stats import spearmanr\n",
        "import matplotlib.pyplot as plt"
      ],
      "execution_count": 0,
      "outputs": []
    },
    {
      "metadata": {
        "id": "Ey--jxCF0YVZ",
        "colab_type": "code",
        "colab": {}
      },
      "cell_type": "code",
      "source": [
        "#Statement coverage test results\n",
        "statement_coverage_results = [50, 94 ,89,94]\n",
        "#Branch coverage test results\n",
        "branch_coverage_report = [ 39, 84, 78, 84]"
      ],
      "execution_count": 0,
      "outputs": []
    },
    {
      "metadata": {
        "id": "Eha9kvBR1L2b",
        "colab_type": "code",
        "outputId": "114575db-eaa8-40e6-afbc-4c0cfa33f30d",
        "colab": {
          "base_uri": "https://localhost:8080/",
          "height": 34
        }
      },
      "cell_type": "code",
      "source": [
        "print(spearmanr(branch_coverage_report, statement_coverage_results))\n"
      ],
      "execution_count": 0,
      "outputs": [
        {
          "output_type": "stream",
          "text": [
            "SpearmanrResult(correlation=1.0, pvalue=0.0)\n"
          ],
          "name": "stdout"
        }
      ]
    },
    {
      "metadata": {
        "id": "mQcSfkX11vQs",
        "colab_type": "text"
      },
      "cell_type": "markdown",
      "source": [
        "###Here, we are able to reaffirm that branch and statement coverage are strongly correlated to each other hence we need to find the correlation between any one of these with the software defect density"
      ]
    },
    {
      "metadata": {
        "id": "ngAE5t6L100c",
        "colab_type": "code",
        "colab": {}
      },
      "cell_type": "code",
      "source": [
        "#Software defect density results \n",
        "software_defect_density =[ 0.04884, 0.10357, 0.05966, 0.13053]\n"
      ],
      "execution_count": 0,
      "outputs": []
    },
    {
      "metadata": {
        "id": "-MpvcO5n4n3X",
        "colab_type": "code",
        "outputId": "500a0046-6ede-4838-92cc-b57bf4ba9d7c",
        "colab": {
          "base_uri": "https://localhost:8080/",
          "height": 34
        }
      },
      "cell_type": "code",
      "source": [
        "print(spearmanr(branch_coverage_report, software_defect_density))"
      ],
      "execution_count": 0,
      "outputs": [
        {
          "output_type": "stream",
          "text": [
            "SpearmanrResult(correlation=0.9486832980505139, pvalue=0.051316701949486114)\n"
          ],
          "name": "stdout"
        }
      ]
    },
    {
      "metadata": {
        "id": "p7Tp12oMJHk6",
        "colab_type": "code",
        "outputId": "4d7b2fbc-e7df-4a41-d646-158aed04d145",
        "colab": {
          "base_uri": "https://localhost:8080/",
          "height": 361
        }
      },
      "cell_type": "code",
      "source": [
        "software_defect_density,statement_coverage_results = zip(*sorted(zip(software_defect_density,statement_coverage_results)))\n",
        "plt.plot(software_defect_density, statement_coverage_results)\n",
        "plt.ylabel(\"Branch coverage results\")\n",
        "plt.xlabel(\"Software defect density results\")\n",
        "plt.show()"
      ],
      "execution_count": 0,
      "outputs": [
        {
          "output_type": "display_data",
          "data": {
            "image/png": "[encoded data removed]",
            "text/plain": [
              "<Figure size 576x396 with 1 Axes>"
            ]
          },
          "metadata": {
            "tags": []
          }
        }
      ]
    }
  ]
}