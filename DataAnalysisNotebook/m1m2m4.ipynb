{
  "nbformat": 4,
  "nbformat_minor": 0,
  "metadata": {
    "colab": {
      "name": "m1m2m4.ipynb",
      "version": "0.3.2",
      "provenance": [],
      "collapsed_sections": [],
      "include_colab_link": true
    },
    "kernelspec": {
      "name": "python3",
      "display_name": "Python 3"
    }
  },
  "cells": [
    {
      "cell_type": "markdown",
      "metadata": {
        "id": "view-in-github",
        "colab_type": "text"
      },
      "source": [
        "<a href=\"https://colab.research.google.com/github/12sandeep1994/SoftwareMeasurementProject/blob/master/DataAnalysisNotebook/m1m2m4.ipynb\" target=\"_parent\"><img src=\"https://colab.research.google.com/assets/colab-badge.svg\" alt=\"Open In Colab\"/></a>"
      ]
    },
    {
      "metadata": {
        "id": "aOOH5woe6bP9",
        "colab_type": "text"
      },
      "cell_type": "markdown",
      "source": [
        "###Some dependencies to inherit for running the tests."
      ]
    },
    {
      "metadata": {
        "id": "3VfA0OJU5zjg",
        "colab_type": "code",
        "colab": {}
      },
      "cell_type": "code",
      "source": [
        "from scipy.stats import spearmanr\n",
        "import matplotlib.pyplot as plt"
      ],
      "execution_count": 0,
      "outputs": []
    },
    {
      "metadata": {
        "id": "d-MXy7DI534O",
        "colab_type": "code",
        "colab": {}
      },
      "cell_type": "code",
      "source": [
        "#Statement coverage test results\n",
        "statement_coverage_results = [50, 94, 89, 94, 72]\n",
        "\n",
        "\n",
        "#Branch coverage test results\n",
        "branch_coverage_report = [ 39, 84, 78, 84, 46]\n"
      ],
      "execution_count": 0,
      "outputs": []
    },
    {
      "metadata": {
        "id": "Q01tv5mc6DxH",
        "colab_type": "code",
        "outputId": "9432a26c-0f90-4cde-aa4b-782cb5dc34cb",
        "colab": {
          "base_uri": "https://localhost:8080/",
          "height": 35
        }
      },
      "cell_type": "code",
      "source": [
        "print(spearmanr(branch_coverage_report, statement_coverage_results))"
      ],
      "execution_count": 0,
      "outputs": [
        {
          "output_type": "stream",
          "text": [
            "SpearmanrResult(correlation=1.0, pvalue=0.0)\n"
          ],
          "name": "stdout"
        }
      ]
    },
    {
      "metadata": {
        "id": "5LiQfhAT6JLL",
        "colab_type": "text"
      },
      "cell_type": "markdown",
      "source": [
        "###Here, we are able to reaffirm that branch and statement coverage are strongly correlated to each other hence we need to find the correlation between any one of these with the obtained cyclomatic complexity results generated."
      ]
    },
    {
      "metadata": {
        "id": "uPZlPUQx6UWi",
        "colab_type": "code",
        "colab": {}
      },
      "cell_type": "code",
      "source": [
        "#Cyclomatic complexity  results\n",
        "cyclomatic_complexity_results = [12.1411, 22.1061, 14.0750, 14.9606, 24.5338]\n"
      ],
      "execution_count": 0,
      "outputs": []
    },
    {
      "metadata": {
        "id": "LX2QLwmo61KT",
        "colab_type": "code",
        "outputId": "bd5368a6-c52b-4cc6-88c0-4ed7827c5422",
        "colab": {
          "base_uri": "https://localhost:8080/",
          "height": 35
        }
      },
      "cell_type": "code",
      "source": [
        "print(spearmanr(cyclomatic_complexity_results, statement_coverage_results))"
      ],
      "execution_count": 0,
      "outputs": [
        {
          "output_type": "stream",
          "text": [
            "SpearmanrResult(correlation=0.35909242322980395, pvalue=0.5528147466433505)\n"
          ],
          "name": "stdout"
        }
      ]
    },
    {
      "metadata": {
        "id": "mjOFdEjo7e7N",
        "colab_type": "text"
      },
      "cell_type": "markdown",
      "source": [
        "###Here, we can clearly see the sample size is not enough to give us a clear indication of the correlation between the metrics but it does show that there is a positive correlation between the metrics. \n",
        "###If the sample size is large enough, our correlation coefficient and the p-value is not less than 5% to be able to reject the null hypothesis."
      ]
    },
    {
      "metadata": {
        "id": "rEzDho9M8lG7",
        "colab_type": "code",
        "outputId": "a39d21b8-38eb-4111-fd66-61f0dd40949a",
        "colab": {
          "base_uri": "https://localhost:8080/",
          "height": 361
        }
      },
      "cell_type": "code",
      "source": [
        "cyclomatic_complexity_results,statement_coverage_results = zip(*sorted(zip(cyclomatic_complexity_results,statement_coverage_results)))\n",
        "plt.plot(cyclomatic_complexity_results, statement_coverage_results)\n",
        "plt.ylabel(\"Statement coverage results\")\n",
        "plt.xlabel(\"Cyclomatic complexity results\")\n",
        "plt.show()"
      ],
      "execution_count": 0,
      "outputs": [
        {
          "output_type": "display_data",
          "data": {
            "image/png": "[encoded data removed]",
            "text/plain": [
              "<Figure size 576x396 with 1 Axes>"
            ]
          },
          "metadata": {
            "tags": []
          }
        }
      ]
    },
    {
      "metadata": {
        "id": "ovyUjEhV87At",
        "colab_type": "text"
      },
      "cell_type": "markdown",
      "source": [
        "###Clearly, there are some values which are outliers. "
      ]
    }
  ]
}